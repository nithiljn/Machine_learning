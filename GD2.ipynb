{
 "cells": [
  {
   "cell_type": "code",
   "execution_count": 1,
   "id": "0afa22d6-731d-4ce7-8a2e-043968ac3cf6",
   "metadata": {},
   "outputs": [],
   "source": [
    "import pandas as pd\n",
    "import math\n",
    "import numpy as np\n",
    "from sklearn import linear_model "
   ]
  },
  {
   "cell_type": "code",
   "execution_count": 27,
   "id": "1c601c84-4898-49f7-a548-f12aac77a412",
   "metadata": {},
   "outputs": [],
   "source": [
    "def linear_sk():\n",
    " df = pd.read_csv(\"C:\\\\Users\\\\nithi\\\\Downloads\\\\test_scores.csv\")\n",
    " reg=linear_model.LinearRegression()\n",
    " reg.fit(df[['math']],df.cs)\n",
    " return reg.coef_,reg.intercept_\n"
   ]
  },
  {
   "cell_type": "code",
   "execution_count": 45,
   "id": "4589610f-eb13-4444-87ef-2f4a9dd704ce",
   "metadata": {},
   "outputs": [
    {
     "name": "stdout",
     "output_type": "stream",
     "text": [
      "m1.9783600000000003,b0.027960000000000002,cost5199.1,iteration0\n",
      "Using gradient descent function 1.9783600000000003 Intercept  0.027960000000000002\n",
      "Using sklearn: [1.01773624]  Intercept  1.9152193111569318\n"
     ]
    }
   ],
   "source": [
    " def gradient_decent(x,y):\n",
    "     m_curr=0\n",
    "     b_curr=0\n",
    "     iteration=1000\n",
    "     n= len(x)\n",
    "     learning_rate=0.0002\n",
    "     cost_previous =0\n",
    "\n",
    "     for i in range(iteration):\n",
    "         y_predicted = m_curr *x+b_curr\n",
    "         cost=(1/n)*sum([val**2 for val in(y-y_predicted)])\n",
    "         md =-(2/n)*sum(x*(y-y_predicted))\n",
    "         bd =-(2/n)*sum(y-y_predicted)\n",
    "         m_curr = m_curr-learning_rate *md\n",
    "         b_curr = b_curr-learning_rate *bd\n",
    "         if math.isclose(cost,cost_previous,rel_tol=1e-20):\n",
    "            break\n",
    "         cost_previous = cost\n",
    "         print(\"m{},b{},cost{},iteration{}\".format(m_curr,b_curr,cost,i))\n",
    "                \n",
    "         return m_curr,b_curr\n",
    "\n",
    "if __name__ == \"__main__\":\n",
    "      df=pd.read_csv(\"C:\\\\Users\\\\nithi\\\\Downloads\\\\test_scores.csv\")\n",
    "      x=np.array(df.math)\n",
    "      y=np.array(df.cs)\n",
    "\n",
    "      m,b =gradient_decent(x,y)\n",
    "      print(\"Using gradient descent function\", m ,\"Intercept \",b)\n",
    "\n",
    "      T,J =linear_sk()\n",
    "      print(\"Using sklearn:\" ,T,\" Intercept \",J)\n",
    "       \n",
    "     "
   ]
  }
 ],
 "metadata": {
  "kernelspec": {
   "display_name": "Python 3 (ipykernel)",
   "language": "python",
   "name": "python3"
  },
  "language_info": {
   "codemirror_mode": {
    "name": "ipython",
    "version": 3
   },
   "file_extension": ".py",
   "mimetype": "text/x-python",
   "name": "python",
   "nbconvert_exporter": "python",
   "pygments_lexer": "ipython3",
   "version": "3.11.7"
  }
 },
 "nbformat": 4,
 "nbformat_minor": 5
}
