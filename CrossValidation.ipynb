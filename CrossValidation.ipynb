{
 "cells": [
  {
   "cell_type": "markdown",
   "id": "92889e50-7d87-4daf-8f87-53cbd42e632a",
   "metadata": {},
   "source": [
    "fist we need to insert the required lib\n"
   ]
  },
  {
   "cell_type": "code",
   "execution_count": 1,
   "id": "e8e420e1-ca5b-4e71-958a-b17ef4e18ce4",
   "metadata": {},
   "outputs": [],
   "source": [
    "from sklearn.linear_model import LinearRegression\n",
    "from sklearn.svm import SVC\n",
    "from sklearn.ensemble import RandomForestClassifier\n",
    "from sklearn.datasets import load_digits\n",
    "digits =load_digits()"
   ]
  },
  {
   "cell_type": "code",
   "execution_count": 2,
   "id": "e534c5e0-9de7-41c6-88ac-e112d589fe3e",
   "metadata": {},
   "outputs": [
    {
     "data": {
      "text/plain": [
       "['DESCR', 'data', 'feature_names', 'frame', 'images', 'target', 'target_names']"
      ]
     },
     "execution_count": 2,
     "metadata": {},
     "output_type": "execute_result"
    }
   ],
   "source": [
    "dir(digits)"
   ]
  },
  {
   "cell_type": "code",
   "execution_count": 26,
   "id": "15e24f30-3e8f-4581-9db3-a7b9e6b964f2",
   "metadata": {},
   "outputs": [],
   "source": [
    "from sklearn.model_selection import train_test_split\n",
    "x_train,x_test,y_train,y_test = train_test_split(digits.data,digits.target,test_size=0.2)"
   ]
  },
  {
   "cell_type": "markdown",
   "id": "c2be9aaa-6be8-4984-a543-821681cd38a0",
   "metadata": {},
   "source": [
    "**linear Regression**"
   ]
  },
  {
   "cell_type": "code",
   "execution_count": 27,
   "id": "095cf883-97fe-4a14-9dc6-04dbc9fd91f4",
   "metadata": {},
   "outputs": [
    {
     "data": {
      "text/plain": [
       "0.6006531436286524"
      ]
     },
     "execution_count": 27,
     "metadata": {},
     "output_type": "execute_result"
    }
   ],
   "source": [
    "lf=LinearRegression()\n",
    "lf.fit(x_train,y_train)\n",
    "lf.score(x_train,y_train)"
   ]
  },
  {
   "cell_type": "markdown",
   "id": "19d45a88-1cd6-4e3a-8fcf-238839782305",
   "metadata": {},
   "source": [
    "**Support Vector Machine**"
   ]
  },
  {
   "cell_type": "code",
   "execution_count": 28,
   "id": "e402eed7-b4f1-456e-ab65-d04748977d43",
   "metadata": {},
   "outputs": [
    {
     "data": {
      "text/plain": [
       "0.9965205288796103"
      ]
     },
     "execution_count": 28,
     "metadata": {},
     "output_type": "execute_result"
    }
   ],
   "source": [
    "sm=SVC()\n",
    "sm.fit(x_train,y_train)\n",
    "sm.score(x_train,y_train)"
   ]
  },
  {
   "cell_type": "markdown",
   "id": "066f1025-59cb-4ce2-8569-ffae60f85c17",
   "metadata": {},
   "source": [
    "**random Forest**"
   ]
  },
  {
   "cell_type": "code",
   "execution_count": 31,
   "id": "1aaf21ca-81b8-42e0-be52-f084fb580b57",
   "metadata": {},
   "outputs": [
    {
     "data": {
      "text/plain": [
       "1.0"
      ]
     },
     "execution_count": 31,
     "metadata": {},
     "output_type": "execute_result"
    }
   ],
   "source": [
    "rmc=RandomForestClassifier()\n",
    "rmc.fit(x_train,y_train)\n",
    "rmc.score(x_train,y_train)"
   ]
  },
  {
   "cell_type": "code",
   "execution_count": 35,
   "id": "a1880bbe-edcf-4e84-8dfb-97426e2b1ee1",
   "metadata": {},
   "outputs": [
    {
     "data": {
      "text/plain": [
       "KFold(n_splits=3, random_state=None, shuffle=False)"
      ]
     },
     "execution_count": 35,
     "metadata": {},
     "output_type": "execute_result"
    }
   ],
   "source": [
    "from sklearn.model_selection import KFold\n",
    "kf = KFold(n_splits=3)\n",
    "\n",
    "kf"
   ]
  },
  {
   "cell_type": "code",
   "execution_count": 36,
   "id": "353e7a68-c4a5-41c2-8199-605df2947b63",
   "metadata": {},
   "outputs": [
    {
     "name": "stdout",
     "output_type": "stream",
     "text": [
      "[3 4 5 6 7 8] [0 1 2]\n",
      "[0 1 2 6 7 8] [3 4 5]\n",
      "[0 1 2 3 4 5] [6 7 8]\n"
     ]
    }
   ],
   "source": [
    "for train_index, test_index in kf.split([1,2,3,4,5,6,7,8,9]):\n",
    "    print(train_index, test_index)"
   ]
  },
  {
   "cell_type": "code",
   "execution_count": 42,
   "id": "6057e2dd-70b2-4540-93b8-43bd628126ac",
   "metadata": {},
   "outputs": [],
   "source": [
    "from sklearn.model_selection import cross_val_score"
   ]
  },
  {
   "cell_type": "code",
   "execution_count": 41,
   "id": "ab291bba-f28d-46c6-991c-e1ad29d4c8b3",
   "metadata": {},
   "outputs": [
    {
     "ename": "NameError",
     "evalue": "name 'croaa_val_score' is not defined",
     "output_type": "error",
     "traceback": [
      "\u001b[1;31m---------------------------------------------------------------------------\u001b[0m",
      "\u001b[1;31mNameError\u001b[0m                                 Traceback (most recent call last)",
      "Cell \u001b[1;32mIn[41], line 1\u001b[0m\n\u001b[1;32m----> 1\u001b[0m croaa_val_score(LinearRegression(),digits\u001b[38;5;241m.\u001b[39mdata,digits\u001b[38;5;241m.\u001b[39mtarget,cv\u001b[38;5;241m=\u001b[39m\u001b[38;5;241m3\u001b[39m)\n",
      "\u001b[1;31mNameError\u001b[0m: name 'croaa_val_score' is not defined"
     ]
    }
   ],
   "source": [
    "croaa_val_score(LinearRegression(),digits.data,digits.target,cv=3)"
   ]
  }
 ],
 "metadata": {
  "kernelspec": {
   "display_name": "Python 3 (ipykernel)",
   "language": "python",
   "name": "python3"
  },
  "language_info": {
   "codemirror_mode": {
    "name": "ipython",
    "version": 3
   },
   "file_extension": ".py",
   "mimetype": "text/x-python",
   "name": "python",
   "nbconvert_exporter": "python",
   "pygments_lexer": "ipython3",
   "version": "3.11.7"
  }
 },
 "nbformat": 4,
 "nbformat_minor": 5
}
